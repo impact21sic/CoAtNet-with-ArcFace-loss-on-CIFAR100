{
  "cells": [
    {
      "cell_type": "code",
      "execution_count": 1,
      "metadata": {
        "colab": {
          "base_uri": "https://localhost:8080/"
        },
        "id": "AZYF7hwaXK3O",
        "outputId": "902afc11-8e99-43b5-e90c-f45d759032be"
      },
      "outputs": [
        {
          "output_type": "stream",
          "name": "stdout",
          "text": [
            "Collecting einops\n",
            "  Downloading einops-0.4.1-py3-none-any.whl (28 kB)\n",
            "Installing collected packages: einops\n",
            "Successfully installed einops-0.4.1\n"
          ]
        }
      ],
      "source": [
        "!pip install einops\n",
        "#!pip install torchvision==0.11.3 -f https://download.pytorch.org/whl/torch_stable.html"
      ]
    },
    {
      "cell_type": "markdown",
      "source": [
        "# **Imports**"
      ],
      "metadata": {
        "id": "gy5iefRsHb8a"
      }
    },
    {
      "cell_type": "code",
      "execution_count": 2,
      "metadata": {
        "colab": {
          "base_uri": "https://localhost:8080/"
        },
        "id": "_xDIIO0oN0xW",
        "outputId": "72f13b78-fa7e-4b02-9a5e-1b8e4706a8e6"
      },
      "outputs": [
        {
          "output_type": "stream",
          "name": "stdout",
          "text": [
            "CUDA is available: True\n",
            "Device selected: cuda\n"
          ]
        }
      ],
      "source": [
        "import torch\n",
        "print('CUDA is available:', torch.cuda.is_available())\n",
        "!export CUDA_LAUNCH_BLOCKING=1\n",
        "import os\n",
        "import numpy as np\n",
        "import cv2 \n",
        "from PIL import Image\n",
        "import torchvision.datasets as datasets\n",
        "from torchvision import transforms\n",
        "from torch.cuda.amp import GradScaler, autocast\n",
        "from torch.utils.data import Dataset, DataLoader, ConcatDataset, SubsetRandomSampler\n",
        "from torch.optim import lr_scheduler\n",
        "from sklearn.model_selection import KFold\n",
        "import matplotlib.pyplot as plt\n",
        "%matplotlib inline\n",
        "from model.coatnet import CoAtNet\n",
        "from model.losses import ArcMarginProduct\n",
        "device = torch.device(\"cuda\" if torch.cuda.is_available() else \"cpu\")\n",
        "print('Device selected:', device)"
      ]
    },
    {
      "cell_type": "markdown",
      "source": [
        "# **Config**"
      ],
      "metadata": {
        "id": "-KwCXNllHzzo"
      }
    },
    {
      "cell_type": "code",
      "source": [
        "# define configuration class\n",
        "class config:\n",
        "    img_size = (224, 224)\n",
        "    num_classes = 100\n",
        "    batch_size = 8\n",
        "    weight_decay = 1e-8 # taken from the paper\n",
        "    penalty = -3.30\n",
        "    radius = 15\n",
        "    lr = 5e-5 # taken from the paper\n",
        "    epochs = 1"
      ],
      "metadata": {
        "id": "yAiMleM8IDis"
      },
      "execution_count": 3,
      "outputs": []
    },
    {
      "cell_type": "markdown",
      "source": [
        "# **Reading data**"
      ],
      "metadata": {
        "id": "arnat3ncKXSH"
      }
    },
    {
      "cell_type": "code",
      "source": [
        "# define custom dataset to deal with the data\n",
        "class DatasetMF(Dataset):\n",
        "  def __init__(self, data, convert_to_rgb=False):\n",
        "    self.data = data\n",
        "    self.convert_to_rgb = convert_to_rgb\n",
        "\n",
        "  def __len__(self):\n",
        "    return len(self.data)\n",
        "\n",
        "  def __getitem__(self, idx):\n",
        "    x = self.data[idx][0]\n",
        "    y = self.data[idx][1]\n",
        "    img = cv2.resize(np.asarray(x), config.img_size)\n",
        "    label = np.asarray(y)\n",
        "\n",
        "    if self.convert_to_rgb:\n",
        "      img = np.repeat(img[::, np.newaxis], 3, -1)\n",
        "\n",
        "      return torch.tensor(img).view(3, config.img_size[0], config.img_size[1]), torch.tensor(label)\n",
        "\n",
        "    else:\n",
        "\n",
        "      return torch.tensor(img).view(3, config.img_size[0], config.img_size[1]), torch.tensor(label)\n",
        "\n",
        "\n",
        "# now init the datasets\n",
        "train_dataset = datasets.CIFAR100('/', train=True, download=True) \n",
        "test_dataset = datasets.CIFAR100('/', train=False, download=True) \n",
        "dataset = DatasetMF(ConcatDataset([train_dataset, test_dataset]))"
      ],
      "metadata": {
        "id": "dD_STY9IKlhX",
        "colab": {
          "base_uri": "https://localhost:8080/",
          "height": 101,
          "referenced_widgets": [
            "7aa25cf05ccc4e3789eabe744704b146",
            "7bdfb8af46a949a49ce8c39137e50705",
            "e98d9108c13b43378a76043b304bd322",
            "8e6125975cef4d3098060c66d3f9d074",
            "ee9de96792d74a22a235246682acebe3",
            "6185937505e94dc09b86060ba3dca100",
            "078c00be06914240b737ac3a6fd2fafc",
            "16aaa6c59fd345628d17cb0594942ad4",
            "a822339521d4432ba24a5f1b6025da7f",
            "a31d6f26c5dd4d8cba61a0edd4a2889f",
            "0583b899a4684b4e9f41e32bed9a5759"
          ]
        },
        "outputId": "c67031f7-0251-4afd-b3ae-0a5c207916d9"
      },
      "execution_count": 4,
      "outputs": [
        {
          "output_type": "stream",
          "name": "stdout",
          "text": [
            "Downloading https://www.cs.toronto.edu/~kriz/cifar-100-python.tar.gz to /cifar-100-python.tar.gz\n"
          ]
        },
        {
          "output_type": "display_data",
          "data": {
            "text/plain": [
              "  0%|          | 0/169001437 [00:00<?, ?it/s]"
            ],
            "application/vnd.jupyter.widget-view+json": {
              "version_major": 2,
              "version_minor": 0,
              "model_id": "7aa25cf05ccc4e3789eabe744704b146"
            }
          },
          "metadata": {}
        },
        {
          "output_type": "stream",
          "name": "stdout",
          "text": [
            "Extracting /cifar-100-python.tar.gz to /\n",
            "Files already downloaded and verified\n"
          ]
        }
      ]
    },
    {
      "cell_type": "markdown",
      "source": [
        "# ***Modeling***\n",
        "Here we gonna use EfficientNet as a image feature extractor and we will also use a classification head(another model) to filter the features through arcface(essenatially) loss, e.g. transforming the logits from the backbone model with arcface on another model, then these logits contribute to the cross entropy loss as we backpropagate with respect to both models weights."
      ],
      "metadata": {
        "id": "DTmunkcRMI5Y"
      }
    },
    {
      "cell_type": "code",
      "source": [
        "# implement GeM pooling\n",
        "class GeM(torch.nn.Module):\n",
        "  def __init__(self, p=3, eps=1e-6):\n",
        "    super(GeM, self).__init__()\n",
        "    self.p = torch.nn.Parameter(torch.ones(1)*p)\n",
        "    self.eps = eps\n",
        "\n",
        "  def forward(self, x):\n",
        "    return self.gem(x, p=self.p, eps=self.eps)\n",
        "      \n",
        "  def gem(self, x, p=3, eps=1e-6):\n",
        "    return torch.nn.functional.avg_pool2d(x.clamp(min=eps).pow(p), (x.size(-2), x.size(-1))).pow(1./p)\n",
        "\n",
        "\n",
        "# define ArcFace head classifier\n",
        "class Net(torch.nn.Module):\n",
        "  def __init__(self, model, num_classes):\n",
        "    super(Net, self).__init__()\n",
        "    self.backbone = model\n",
        "    self.pool = GeM() # pooling layer\n",
        "    self.drop = torch.nn.Dropout2d(0.2)\n",
        "    self.dense = torch.nn.Linear(1, 512)\n",
        "\n",
        "    # Some interesting theory(tl;dr):\n",
        "    # here, in the loss function, parameter 's' denotes the radius of \n",
        "    # a hypersphere on which the learned embeddings are distributed,\n",
        "    # while the 'm' parameter denotes to an additive angular margin penalty added \n",
        "    # between the features and ground truth weights, e.g. X_i and W_yi\n",
        "    self.final = ArcMarginProduct(in_features=512, out_features=num_classes, m=config.penalty, s=config.radius, device=device) # defaults are m=0.5, s=30\n",
        "\n",
        "  # as we need labels for transforming \n",
        "  # the logits with arcface loss, we define the \n",
        "  # forward method as follows:\n",
        "  def forward(self, x, y):\n",
        "    logits = self.backbone(x)\n",
        "    pooled_features = self.pool(logits.unsqueeze(0).view(config.batch_size, -1, 10, int(logits.shape[1]/10)))\n",
        "    dropped_features = self.drop(pooled_features)\n",
        "    emb = self.dense(dropped_features) # get embeddings from dense layer\n",
        "\n",
        "    # return transformed logits\n",
        "    return self.final(emb.squeeze(1).squeeze(1), y)\n",
        "\n",
        "\n",
        "# define pipeline models\n",
        "# using coatnet3 btw\n",
        "num_blocks = [2, 2, 6, 14, 2]            # L\n",
        "channels = [192, 192, 384, 768, 1536]    # D\n",
        "block_types=['C', 'C', 'T', 'T']         # 'C' for MBConv, 'T' for Transformer\n",
        "coatnet = CoAtNet(config.img_size, 3, num_blocks, channels, block_types=block_types) # predicting 1000 classes by default\n",
        "model = Net(coatnet, config.num_classes)"
      ],
      "metadata": {
        "id": "AVsMGu-yMIVR",
        "colab": {
          "base_uri": "https://localhost:8080/"
        },
        "outputId": "436abaf4-6271-469f-9f78-4e3aaa8172b2"
      },
      "execution_count": 5,
      "outputs": [
        {
          "output_type": "stream",
          "name": "stderr",
          "text": [
            "/usr/local/lib/python3.7/dist-packages/torch/functional.py:445: UserWarning: torch.meshgrid: in an upcoming release, it will be required to pass the indexing argument. (Triggered internally at  ../aten/src/ATen/native/TensorShape.cpp:2157.)\n",
            "  return _VF.meshgrid(tensors, **kwargs)  # type: ignore[attr-defined]\n"
          ]
        }
      ]
    },
    {
      "cell_type": "markdown",
      "source": [
        "# ***Train and validation functions***"
      ],
      "metadata": {
        "id": "oCYo-Ri9Dqk-"
      }
    },
    {
      "cell_type": "code",
      "source": [
        "from tqdm import tqdm\n",
        "\n",
        "\n",
        "# training function for an epoch\n",
        "def train_epoch(model, train_dataloader):\n",
        "  model.train()\n",
        "  train_loss, train_correct = 0.0, 0\n",
        "\n",
        "  for step, batch in enumerate(tqdm(train_dataloader)):\n",
        "    # zero gradients\n",
        "    optim.zero_grad()\n",
        "    \n",
        "    # transfer batch to device\n",
        "    x, y = batch\n",
        "    x, y = x.to(device), y.to(device)\n",
        "\n",
        "    # clip the norm of the gradients to 1.0 to prevent \"exploding gradients\"\n",
        "    torch.nn.utils.clip_grad_norm_(model.parameters(), 1.0)\n",
        "    \n",
        "    # compute logits and loss, and perform backpropagation and gradient descent step\n",
        "    logits = model(x.float(), y) # extracting features and transform logits\n",
        "    loss = loss_fn(logits, y)\n",
        "    train_loss += loss.item()\n",
        "    loss.backward()\n",
        "    optim.step()\n",
        "\n",
        "    # calculate accuracy\n",
        "    preds = torch.argmax(logits, dim=1).flatten()\n",
        "    correct_preds_n = (preds == y).cpu().sum().item()\n",
        "    train_correct += correct_preds_n\n",
        "\n",
        "  return train_loss, train_correct\n",
        "\n",
        "\n",
        "# evaluation function for an epoch\n",
        "def valid_epoch(model, train_dataloader):\n",
        "  model.eval()\n",
        "  val_loss, val_correct = 0.0, 0\n",
        "  \n",
        "  for step, batch in enumerate(tqdm(train_dataloader)):\n",
        "    optim.zero_grad()\n",
        "    x, y = batch\n",
        "    x, y = x.to(device), y.to(device)\n",
        "    torch.nn.utils.clip_grad_norm_(model.parameters(), 1.0)\n",
        "    logits = model(x.float(), y) \n",
        "    loss = loss_fn(logits, y)\n",
        "    val_loss += loss.item()\n",
        "    loss.backward()\n",
        "    optim.step()\n",
        "    preds = torch.argmax(logits, dim=1).flatten()\n",
        "    correct_preds_n = (preds == y).cpu().sum().item()\n",
        "    val_correct += correct_preds_n\n",
        "  \n",
        "  return val_loss, val_correct"
      ],
      "metadata": {
        "id": "1jpH2Hg7DoaI"
      },
      "execution_count": 6,
      "outputs": []
    },
    {
      "cell_type": "markdown",
      "source": [
        "# **CV**\n",
        "\n"
      ],
      "metadata": {
        "id": "jP2wfyy7Baku"
      }
    },
    {
      "cell_type": "code",
      "source": [
        "from tqdm import tqdm \n",
        "\n",
        "\n",
        "# define loss function and optimizer\n",
        "loss_fn = torch.nn.CrossEntropyLoss()\n",
        "optim = torch.optim.AdamW(\n",
        "    model.parameters(),\n",
        "    lr=config.lr,\n",
        "    weight_decay=config.weight_decay\n",
        ")\n",
        "\n",
        "# cv on 2 folds\n",
        "k=2\n",
        "splits=KFold(n_splits=k, shuffle=True, random_state=2022)\n",
        "foldperf={}\n",
        "model.to(device)\n",
        "\n",
        "for fold, (train_idx,val_idx) in enumerate(splits.split(dataset)):\n",
        "  print('Fold {}'.format(fold + 1))\n",
        "  train_sampler = SubsetRandomSampler(train_idx)\n",
        "  test_sampler = SubsetRandomSampler(val_idx)\n",
        "  train_loader = DataLoader(dataset, batch_size=config.batch_size, sampler=train_sampler, num_workers=2, drop_last=True, pin_memory=True)\n",
        "  test_loader = DataLoader(dataset, batch_size=config.batch_size, sampler=test_sampler, num_workers=2, drop_last=True, pin_memory=True)\n",
        "  history = {'train_loss': [], 'test_loss': [],'train_acc':[],'test_acc':[]}\n",
        "\n",
        "  for epoch in range(config.epochs):\n",
        "    torch.cuda.empty_cache()\n",
        "    print('---train:')    \n",
        "    train_loss, train_correct = train_epoch(model, train_loader)\n",
        "    print('---eval:')\n",
        "    test_loss, test_correct = valid_epoch(model, test_loader)\n",
        "    train_loss = train_loss / len(train_loader.sampler)\n",
        "    train_acc = train_correct / len(train_loader.sampler) * 100\n",
        "    test_loss = test_loss / len(test_loader.sampler)\n",
        "    test_acc = test_correct / len(test_loader.sampler) * 100\n",
        "    print('---status:')\n",
        "    print(\"\\tEpoch:{}/{} \\n\\tAverage Training Loss:{:.4f}, Average Test Loss:{:.4f}; \\n\\tAverage Training Acc {:.2f}%, Average Test Acc {:.2f}%\\n\".format(epoch + 1,\n",
        "                                                                                                                                                          config.epochs,\n",
        "                                                                                                                                                          train_loss,\n",
        "                                                                                                                                                          test_loss,\n",
        "                                                                                                                                                          train_acc,\n",
        "                                                                                                                                                          test_acc))\n",
        "    history['train_loss'].append(train_loss)\n",
        "    history['test_loss'].append(test_loss)\n",
        "    history['train_acc'].append(train_acc)\n",
        "    history['test_acc'].append(test_acc)\n",
        "  \n",
        "  foldperf['fold{}'.format(fold+1)] = history\n",
        "\n",
        "torch.save(coatnet,'coatnet_finetuned_cifar100.pt')"
      ],
      "metadata": {
        "id": "75RZtbOhBZhX"
      },
      "execution_count": null,
      "outputs": []
    }
  ],
  "metadata": {
    "accelerator": "GPU",
    "colab": {
      "collapsed_sections": [],
      "name": "CoAtNet_with_ArcFace_Loss_on_CIFAR100.ipynb",
      "provenance": []
    },
    "kernelspec": {
      "display_name": "Python 3",
      "name": "python3"
    },
    "language_info": {
      "name": "python"
    },
    "widgets": {
      "application/vnd.jupyter.widget-state+json": {
        "7aa25cf05ccc4e3789eabe744704b146": {
          "model_module": "@jupyter-widgets/controls",
          "model_name": "HBoxModel",
          "model_module_version": "1.5.0",
          "state": {
            "_dom_classes": [],
            "_model_module": "@jupyter-widgets/controls",
            "_model_module_version": "1.5.0",
            "_model_name": "HBoxModel",
            "_view_count": null,
            "_view_module": "@jupyter-widgets/controls",
            "_view_module_version": "1.5.0",
            "_view_name": "HBoxView",
            "box_style": "",
            "children": [
              "IPY_MODEL_7bdfb8af46a949a49ce8c39137e50705",
              "IPY_MODEL_e98d9108c13b43378a76043b304bd322",
              "IPY_MODEL_8e6125975cef4d3098060c66d3f9d074"
            ],
            "layout": "IPY_MODEL_ee9de96792d74a22a235246682acebe3"
          }
        },
        "7bdfb8af46a949a49ce8c39137e50705": {
          "model_module": "@jupyter-widgets/controls",
          "model_name": "HTMLModel",
          "model_module_version": "1.5.0",
          "state": {
            "_dom_classes": [],
            "_model_module": "@jupyter-widgets/controls",
            "_model_module_version": "1.5.0",
            "_model_name": "HTMLModel",
            "_view_count": null,
            "_view_module": "@jupyter-widgets/controls",
            "_view_module_version": "1.5.0",
            "_view_name": "HTMLView",
            "description": "",
            "description_tooltip": null,
            "layout": "IPY_MODEL_6185937505e94dc09b86060ba3dca100",
            "placeholder": "​",
            "style": "IPY_MODEL_078c00be06914240b737ac3a6fd2fafc",
            "value": ""
          }
        },
        "e98d9108c13b43378a76043b304bd322": {
          "model_module": "@jupyter-widgets/controls",
          "model_name": "FloatProgressModel",
          "model_module_version": "1.5.0",
          "state": {
            "_dom_classes": [],
            "_model_module": "@jupyter-widgets/controls",
            "_model_module_version": "1.5.0",
            "_model_name": "FloatProgressModel",
            "_view_count": null,
            "_view_module": "@jupyter-widgets/controls",
            "_view_module_version": "1.5.0",
            "_view_name": "ProgressView",
            "bar_style": "success",
            "description": "",
            "description_tooltip": null,
            "layout": "IPY_MODEL_16aaa6c59fd345628d17cb0594942ad4",
            "max": 169001437,
            "min": 0,
            "orientation": "horizontal",
            "style": "IPY_MODEL_a822339521d4432ba24a5f1b6025da7f",
            "value": 169001437
          }
        },
        "8e6125975cef4d3098060c66d3f9d074": {
          "model_module": "@jupyter-widgets/controls",
          "model_name": "HTMLModel",
          "model_module_version": "1.5.0",
          "state": {
            "_dom_classes": [],
            "_model_module": "@jupyter-widgets/controls",
            "_model_module_version": "1.5.0",
            "_model_name": "HTMLModel",
            "_view_count": null,
            "_view_module": "@jupyter-widgets/controls",
            "_view_module_version": "1.5.0",
            "_view_name": "HTMLView",
            "description": "",
            "description_tooltip": null,
            "layout": "IPY_MODEL_a31d6f26c5dd4d8cba61a0edd4a2889f",
            "placeholder": "​",
            "style": "IPY_MODEL_0583b899a4684b4e9f41e32bed9a5759",
            "value": " 169001984/? [00:03&lt;00:00, 52406880.39it/s]"
          }
        },
        "ee9de96792d74a22a235246682acebe3": {
          "model_module": "@jupyter-widgets/base",
          "model_name": "LayoutModel",
          "model_module_version": "1.2.0",
          "state": {
            "_model_module": "@jupyter-widgets/base",
            "_model_module_version": "1.2.0",
            "_model_name": "LayoutModel",
            "_view_count": null,
            "_view_module": "@jupyter-widgets/base",
            "_view_module_version": "1.2.0",
            "_view_name": "LayoutView",
            "align_content": null,
            "align_items": null,
            "align_self": null,
            "border": null,
            "bottom": null,
            "display": null,
            "flex": null,
            "flex_flow": null,
            "grid_area": null,
            "grid_auto_columns": null,
            "grid_auto_flow": null,
            "grid_auto_rows": null,
            "grid_column": null,
            "grid_gap": null,
            "grid_row": null,
            "grid_template_areas": null,
            "grid_template_columns": null,
            "grid_template_rows": null,
            "height": null,
            "justify_content": null,
            "justify_items": null,
            "left": null,
            "margin": null,
            "max_height": null,
            "max_width": null,
            "min_height": null,
            "min_width": null,
            "object_fit": null,
            "object_position": null,
            "order": null,
            "overflow": null,
            "overflow_x": null,
            "overflow_y": null,
            "padding": null,
            "right": null,
            "top": null,
            "visibility": null,
            "width": null
          }
        },
        "6185937505e94dc09b86060ba3dca100": {
          "model_module": "@jupyter-widgets/base",
          "model_name": "LayoutModel",
          "model_module_version": "1.2.0",
          "state": {
            "_model_module": "@jupyter-widgets/base",
            "_model_module_version": "1.2.0",
            "_model_name": "LayoutModel",
            "_view_count": null,
            "_view_module": "@jupyter-widgets/base",
            "_view_module_version": "1.2.0",
            "_view_name": "LayoutView",
            "align_content": null,
            "align_items": null,
            "align_self": null,
            "border": null,
            "bottom": null,
            "display": null,
            "flex": null,
            "flex_flow": null,
            "grid_area": null,
            "grid_auto_columns": null,
            "grid_auto_flow": null,
            "grid_auto_rows": null,
            "grid_column": null,
            "grid_gap": null,
            "grid_row": null,
            "grid_template_areas": null,
            "grid_template_columns": null,
            "grid_template_rows": null,
            "height": null,
            "justify_content": null,
            "justify_items": null,
            "left": null,
            "margin": null,
            "max_height": null,
            "max_width": null,
            "min_height": null,
            "min_width": null,
            "object_fit": null,
            "object_position": null,
            "order": null,
            "overflow": null,
            "overflow_x": null,
            "overflow_y": null,
            "padding": null,
            "right": null,
            "top": null,
            "visibility": null,
            "width": null
          }
        },
        "078c00be06914240b737ac3a6fd2fafc": {
          "model_module": "@jupyter-widgets/controls",
          "model_name": "DescriptionStyleModel",
          "model_module_version": "1.5.0",
          "state": {
            "_model_module": "@jupyter-widgets/controls",
            "_model_module_version": "1.5.0",
            "_model_name": "DescriptionStyleModel",
            "_view_count": null,
            "_view_module": "@jupyter-widgets/base",
            "_view_module_version": "1.2.0",
            "_view_name": "StyleView",
            "description_width": ""
          }
        },
        "16aaa6c59fd345628d17cb0594942ad4": {
          "model_module": "@jupyter-widgets/base",
          "model_name": "LayoutModel",
          "model_module_version": "1.2.0",
          "state": {
            "_model_module": "@jupyter-widgets/base",
            "_model_module_version": "1.2.0",
            "_model_name": "LayoutModel",
            "_view_count": null,
            "_view_module": "@jupyter-widgets/base",
            "_view_module_version": "1.2.0",
            "_view_name": "LayoutView",
            "align_content": null,
            "align_items": null,
            "align_self": null,
            "border": null,
            "bottom": null,
            "display": null,
            "flex": null,
            "flex_flow": null,
            "grid_area": null,
            "grid_auto_columns": null,
            "grid_auto_flow": null,
            "grid_auto_rows": null,
            "grid_column": null,
            "grid_gap": null,
            "grid_row": null,
            "grid_template_areas": null,
            "grid_template_columns": null,
            "grid_template_rows": null,
            "height": null,
            "justify_content": null,
            "justify_items": null,
            "left": null,
            "margin": null,
            "max_height": null,
            "max_width": null,
            "min_height": null,
            "min_width": null,
            "object_fit": null,
            "object_position": null,
            "order": null,
            "overflow": null,
            "overflow_x": null,
            "overflow_y": null,
            "padding": null,
            "right": null,
            "top": null,
            "visibility": null,
            "width": null
          }
        },
        "a822339521d4432ba24a5f1b6025da7f": {
          "model_module": "@jupyter-widgets/controls",
          "model_name": "ProgressStyleModel",
          "model_module_version": "1.5.0",
          "state": {
            "_model_module": "@jupyter-widgets/controls",
            "_model_module_version": "1.5.0",
            "_model_name": "ProgressStyleModel",
            "_view_count": null,
            "_view_module": "@jupyter-widgets/base",
            "_view_module_version": "1.2.0",
            "_view_name": "StyleView",
            "bar_color": null,
            "description_width": ""
          }
        },
        "a31d6f26c5dd4d8cba61a0edd4a2889f": {
          "model_module": "@jupyter-widgets/base",
          "model_name": "LayoutModel",
          "model_module_version": "1.2.0",
          "state": {
            "_model_module": "@jupyter-widgets/base",
            "_model_module_version": "1.2.0",
            "_model_name": "LayoutModel",
            "_view_count": null,
            "_view_module": "@jupyter-widgets/base",
            "_view_module_version": "1.2.0",
            "_view_name": "LayoutView",
            "align_content": null,
            "align_items": null,
            "align_self": null,
            "border": null,
            "bottom": null,
            "display": null,
            "flex": null,
            "flex_flow": null,
            "grid_area": null,
            "grid_auto_columns": null,
            "grid_auto_flow": null,
            "grid_auto_rows": null,
            "grid_column": null,
            "grid_gap": null,
            "grid_row": null,
            "grid_template_areas": null,
            "grid_template_columns": null,
            "grid_template_rows": null,
            "height": null,
            "justify_content": null,
            "justify_items": null,
            "left": null,
            "margin": null,
            "max_height": null,
            "max_width": null,
            "min_height": null,
            "min_width": null,
            "object_fit": null,
            "object_position": null,
            "order": null,
            "overflow": null,
            "overflow_x": null,
            "overflow_y": null,
            "padding": null,
            "right": null,
            "top": null,
            "visibility": null,
            "width": null
          }
        },
        "0583b899a4684b4e9f41e32bed9a5759": {
          "model_module": "@jupyter-widgets/controls",
          "model_name": "DescriptionStyleModel",
          "model_module_version": "1.5.0",
          "state": {
            "_model_module": "@jupyter-widgets/controls",
            "_model_module_version": "1.5.0",
            "_model_name": "DescriptionStyleModel",
            "_view_count": null,
            "_view_module": "@jupyter-widgets/base",
            "_view_module_version": "1.2.0",
            "_view_name": "StyleView",
            "description_width": ""
          }
        }
      }
    }
  },
  "nbformat": 4,
  "nbformat_minor": 0
}